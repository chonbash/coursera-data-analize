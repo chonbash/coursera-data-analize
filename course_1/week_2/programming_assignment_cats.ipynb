{
 "cells": [
  {
   "cell_type": "markdown",
   "metadata": {
    "deletable": true,
    "editable": true
   },
   "source": [
    "#  Задача 1"
   ]
  },
  {
   "cell_type": "code",
   "execution_count": 3,
   "metadata": {
    "collapsed": false,
    "deletable": true,
    "editable": true
   },
   "outputs": [
    {
     "name": "stdout",
     "output_type": "stream",
     "text": [
      "(0.77708871496985887, 0.7327387580875756)\n",
      "('in comparison to dogs, cats have not undergone major changes during the domestication process.\\n', 'cats can hear sounds too faint or too high in frequency for human ears, such as those made by mice and other small animals.\\n', 'the domesticated cat and its closest wild ancestor are both diploid organisms that possess 38 chromosomes and roughly 20,000 genes.\\n')\n",
      "3\n",
      "5\n"
     ]
    }
   ],
   "source": [
    "import re\n",
    "import numpy as np\n",
    "from scipy import spatial as sp\n",
    "\n",
    "file_in = open(\"sentences.txt\")\n",
    "file_lines = []\n",
    "for f in file_in:\n",
    "    file_lines.append(f.lower())\n",
    "file_in.close()\n",
    "\n",
    "dict_list = []\n",
    "dict_words = {}\n",
    "for line in file_lines:\n",
    "    for word in re.split('[^a-z]',line):\n",
    "        if word == '':\n",
    "            continue\n",
    "        elif word not in dict_words:\n",
    "            dict_words\n",
    "            dict_words[word] = 1\n",
    "        else :\n",
    "            dict_words[word] += 1\n",
    "    dict_list.append(dict_words)\n",
    "    dict_words = {}\n",
    "for line in file_lines:\n",
    "    for word in re.split('[^a-z]',line):\n",
    "        if word == '':\n",
    "            continue\n",
    "        elif word not in dict_words:\n",
    "            dict_words\n",
    "            dict_words[word] = 1\n",
    "        else :\n",
    "            dict_words[word] += 1\n",
    "words_index = {}\n",
    "i=0\n",
    "for line in file_lines:\n",
    "    for word in re.split('[^a-z]',line):\n",
    "        if word == '':\n",
    "            continue\n",
    "        elif word not in words_index:\n",
    "            words_index[word] = i\n",
    "            i += 1\n",
    "d = len(words_index)\n",
    "n = len(file_lines)\n",
    "matrix = np.array([0 for i in range(n*d)])\n",
    "matrix = matrix.reshape((n,d))\n",
    "matrix.shape\n",
    "i=0\n",
    "for line in file_lines:\n",
    "    for word in re.split('[^a-z]',line):\n",
    "        if word in dict_list[i]:\n",
    "            matrix[i,words_index[word]] = dict_list[i][word]\n",
    "    i += 1\n",
    "cos_dist = np.array([])\n",
    "for i in range(1,n):\n",
    "    cos_dist = np.append(cos_dist, sp.distance.cosine(matrix[0],matrix[i]))\n",
    "min1 = 1\n",
    "min2 = 1\n",
    "for d in cos_dist:\n",
    "    if d < min1:\n",
    "        if d < min2:\n",
    "            min1 = min2\n",
    "            min2 = d\n",
    "        else:\n",
    "            min1 = d\n",
    "        \n",
    "print(min1, min2)\n",
    "min1_index = cos_dist.tolist().index(min1)\n",
    "min2_index = cos_dist.tolist().index(min2)\n",
    "print(file_lines[0],file_lines[min1_index],file_lines[min2_index])\n",
    "print min1_index\n",
    "print min2_index"
   ]
  }
 ],
 "metadata": {
  "kernelspec": {
   "display_name": "Python 2",
   "language": "python",
   "name": "python2"
  },
  "language_info": {
   "codemirror_mode": {
    "name": "ipython",
    "version": 2
   },
   "file_extension": ".py",
   "mimetype": "text/x-python",
   "name": "python",
   "nbconvert_exporter": "python",
   "pygments_lexer": "ipython2",
   "version": "2.7.13"
  }
 },
 "nbformat": 4,
 "nbformat_minor": 2
}
